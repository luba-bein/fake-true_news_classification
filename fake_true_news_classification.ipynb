{
  "nbformat": 4,
  "nbformat_minor": 0,
  "metadata": {
    "colab": {
      "name": "fake-true_news_classification.ipynb",
      "provenance": [],
      "collapsed_sections": [],
      "toc_visible": true
    },
    "kernelspec": {
      "name": "python3",
      "display_name": "Python 3"
    },
    "accelerator": "GPU"
  },
  "cells": [
    {
      "cell_type": "code",
      "metadata": {
        "id": "neYeCyfAIVRq",
        "colab": {
          "base_uri": "https://localhost:8080/"
        },
        "outputId": "65a7ff76-1115-463a-cc3d-de6fb5160275"
      },
      "source": [
        "from tensorflow.keras.models import Sequential\n",
        "from tensorflow.keras.layers import Dense, Embedding, MaxPooling1D, Conv1D,  MaxPool1D, LSTM, SimpleRNN\n",
        "from tensorflow.keras import utils\n",
        "from tensorflow.keras.preprocessing.sequence import pad_sequences\n",
        "from tensorflow.keras.preprocessing.text import Tokenizer\n",
        "import pandas as pd\n",
        "import numpy as np\n",
        "import matplotlib.pyplot as plt\n",
        "import nltk\n",
        "nltk.download('stopwords')\n",
        "nltk.download('punkt')"
      ],
      "execution_count": null,
      "outputs": [
        {
          "output_type": "stream",
          "name": "stdout",
          "text": [
            "[nltk_data] Downloading package stopwords to /root/nltk_data...\n",
            "[nltk_data]   Unzipping corpora/stopwords.zip.\n",
            "[nltk_data] Downloading package punkt to /root/nltk_data...\n",
            "[nltk_data]   Unzipping tokenizers/punkt.zip.\n"
          ]
        },
        {
          "output_type": "execute_result",
          "data": {
            "text/plain": [
              "True"
            ]
          },
          "metadata": {},
          "execution_count": 1
        }
      ]
    },
    {
      "cell_type": "code",
      "metadata": {
        "id": "zJJcye7pSyR-"
      },
      "source": [
        "num_words = 10000\n",
        "max_news_len = 400\n",
        "input_dir='/content/drive/My Drive/true-fake news/'"
      ],
      "execution_count": null,
      "outputs": []
    },
    {
      "cell_type": "code",
      "metadata": {
        "id": "5R2qtoFKI4AE"
      },
      "source": [
        "fake = pd.read_csv(input_dir + \"Fake.csv\")\n",
        "true = pd.read_csv(input_dir + \"True.csv\")\n",
        "true[\"class\"] = 1\n",
        "fake[\"class\"] = 0\n",
        "data = true.append(fake, ignore_index = True)\n",
        "news = data[\"text\"]"
      ],
      "execution_count": null,
      "outputs": []
    },
    {
      "cell_type": "code",
      "metadata": {
        "id": "B9d0Pq-uFk59"
      },
      "source": [
        "def text_prepararion(sentences):\n",
        "  tmp = []\n",
        "  for sent in sentences:\n",
        "        sent = sent.lower()\n",
        "        tokens = tokenizer.tokenize(sent)\n",
        "        filtered_words = [w.strip() for w in tokens if w not in stop_words and len(w) > 1]\n",
        "        tmp.extend(filtered_words)\n",
        "  return tmp\n"
      ],
      "execution_count": null,
      "outputs": []
    },
    {
      "cell_type": "code",
      "metadata": {
        "id": "MTCoDNptxXN7"
      },
      "source": [
        "x = []\n",
        "stop_words = set(nltk.corpus.stopwords.words(\"english\"))\n",
        "tokenizer = nltk.tokenize.RegexpTokenizer(r'\\w+')\n",
        "for par in data[\"text\"].values:\n",
        "    sentences = nltk.sent_tokenize(par)\n",
        "    tmp = text_prepararion(sentences)\n",
        "    x.append(tmp)"
      ],
      "execution_count": null,
      "outputs": []
    },
    {
      "cell_type": "code",
      "metadata": {
        "id": "qwzhmz6gJ_ip"
      },
      "source": [
        "tokenizer = Tokenizer(num_words = num_words)\n",
        "tokenizer.fit_on_texts(x)"
      ],
      "execution_count": null,
      "outputs": []
    },
    {
      "cell_type": "code",
      "metadata": {
        "id": "udFz-b40K4lh"
      },
      "source": [
        "y_train = data[\"class\"]\n",
        "x_train = tokenizer.texts_to_sequences(news)\n",
        "x_train = pad_sequences(x_train, maxlen=max_news_len)"
      ],
      "execution_count": null,
      "outputs": []
    },
    {
      "cell_type": "markdown",
      "metadata": {
        "id": "Mm7CWStYXzxQ"
      },
      "source": [
        "# usinf CNN model"
      ]
    },
    {
      "cell_type": "code",
      "metadata": {
        "id": "f4wIsuHSLUWd",
        "colab": {
          "base_uri": "https://localhost:8080/"
        },
        "outputId": "2b01921e-d009-4417-e685-ed104fdedb14"
      },
      "source": [
        "model = Sequential()\n",
        "model.add(Embedding(num_words, 32, input_length=max_news_len))\n",
        "model.add(Conv1D(activation='relu', filters=4, kernel_size=4))\n",
        "model.add(MaxPool1D())\n",
        "model.add(LSTM(units=128))\n",
        "model.add(Dense(1, activation='sigmoid'))\n",
        "model.compile(optimizer='adam', loss='binary_crossentropy', metrics=['acc'])\n",
        "model.summary()"
      ],
      "execution_count": null,
      "outputs": [
        {
          "output_type": "stream",
          "name": "stdout",
          "text": [
            "Model: \"sequential\"\n",
            "_________________________________________________________________\n",
            " Layer (type)                Output Shape              Param #   \n",
            "=================================================================\n",
            " embedding (Embedding)       (None, 400, 32)           320000    \n",
            "                                                                 \n",
            " conv1d (Conv1D)             (None, 397, 4)            516       \n",
            "                                                                 \n",
            " max_pooling1d (MaxPooling1D  (None, 198, 4)           0         \n",
            " )                                                               \n",
            "                                                                 \n",
            " lstm (LSTM)                 (None, 128)               68096     \n",
            "                                                                 \n",
            " dense (Dense)               (None, 1)                 129       \n",
            "                                                                 \n",
            "=================================================================\n",
            "Total params: 388,741\n",
            "Trainable params: 388,741\n",
            "Non-trainable params: 0\n",
            "_________________________________________________________________\n"
          ]
        }
      ]
    },
    {
      "cell_type": "code",
      "metadata": {
        "id": "6JVl0ixuNzml",
        "colab": {
          "base_uri": "https://localhost:8080/"
        },
        "outputId": "01b83b01-ba43-41b7-ee2a-4fd4790db12f"
      },
      "source": [
        "EPOCHS = 10\n",
        "BATCH_SIZE =1000\n",
        "\n",
        "history = model.fit(x_train, \n",
        "                    y_train, \n",
        "                    epochs=EPOCHS,\n",
        "                    batch_size=BATCH_SIZE,\n",
        "                    validation_split=0.2)\n",
        "                  "
      ],
      "execution_count": null,
      "outputs": [
        {
          "output_type": "stream",
          "name": "stdout",
          "text": [
            "Epoch 1/10\n",
            "36/36 [==============================] - 21s 202ms/step - loss: 0.6129 - acc: 0.6232 - val_loss: 1.2326 - val_acc: 0.2461\n",
            "Epoch 2/10\n",
            "36/36 [==============================] - 6s 177ms/step - loss: 0.2129 - acc: 0.9274 - val_loss: 0.3623 - val_acc: 0.8923\n",
            "Epoch 3/10\n",
            "36/36 [==============================] - 7s 182ms/step - loss: 0.1057 - acc: 0.9658 - val_loss: 0.3658 - val_acc: 0.9131\n",
            "Epoch 4/10\n",
            "36/36 [==============================] - 6s 179ms/step - loss: 0.1849 - acc: 0.9397 - val_loss: 0.2767 - val_acc: 0.9141\n",
            "Epoch 5/10\n",
            "36/36 [==============================] - 6s 180ms/step - loss: 0.0619 - acc: 0.9819 - val_loss: 0.6990 - val_acc: 0.8237\n",
            "Epoch 6/10\n",
            "36/36 [==============================] - 6s 180ms/step - loss: 0.0448 - acc: 0.9876 - val_loss: 0.1995 - val_acc: 0.9427\n",
            "Epoch 7/10\n",
            "36/36 [==============================] - 7s 181ms/step - loss: 0.0236 - acc: 0.9940 - val_loss: 0.2632 - val_acc: 0.9249\n",
            "Epoch 8/10\n",
            "36/36 [==============================] - 6s 180ms/step - loss: 0.0178 - acc: 0.9958 - val_loss: 0.3349 - val_acc: 0.8924\n",
            "Epoch 9/10\n",
            "36/36 [==============================] - 6s 181ms/step - loss: 0.0151 - acc: 0.9967 - val_loss: 0.1996 - val_acc: 0.9439\n",
            "Epoch 10/10\n",
            "36/36 [==============================] - 7s 182ms/step - loss: 0.0105 - acc: 0.9973 - val_loss: 0.1582 - val_acc: 0.9591\n"
          ]
        }
      ]
    },
    {
      "cell_type": "code",
      "metadata": {
        "id": "jI38atfmUZzI",
        "colab": {
          "base_uri": "https://localhost:8080/",
          "height": 279
        },
        "outputId": "4170c0a0-17d2-4953-ee51-db08dfdb2fb4"
      },
      "source": [
        "plt.plot(history.history['acc'], \n",
        "         label='The proportion of correct answers on the training set ')\n",
        "plt.plot(history.history['val_acc'], \n",
        "         label='Percentage of correct answers on the test set')\n",
        "plt.xlabel('The epoch of learning ')\n",
        "plt.ylabel('Percentage of correct answers ')\n",
        "plt.legend()\n",
        "plt.show()"
      ],
      "execution_count": null,
      "outputs": [
        {
          "output_type": "display_data",
          "data": {
            "image/png": "[encoded data removed]",
            "text/plain": [
              "<Figure size 432x288 with 1 Axes>"
            ]
          },
          "metadata": {
            "needs_background": "light"
          }
        }
      ]
    },
    {
      "cell_type": "markdown",
      "metadata": {
        "id": "dLmm4NyAnCyL"
      },
      "source": [
        "# using RNN model "
      ]
    },
    {
      "cell_type": "code",
      "metadata": {
        "id": "cDBVDC_RnGxS"
      },
      "source": [
        "rnn_model = Sequential()\n",
        "rnn_model.add(Embedding(num_words, 2, input_length=max_news_len))\n",
        "rnn_model.add(SimpleRNN(8))\n",
        "rnn_model.add(Dense(1, activation='sigmoid'))\n",
        "rnn_model.compile(optimizer='rmsprop', \n",
        "              loss='binary_crossentropy', \n",
        "              metrics=['accuracy'])"
      ],
      "execution_count": null,
      "outputs": []
    },
    {
      "cell_type": "code",
      "metadata": {
        "id": "iJuAze5mnGLT",
        "colab": {
          "base_uri": "https://localhost:8080/"
        },
        "outputId": "171090af-400f-4a1f-ec96-65b22b556343"
      },
      "source": [
        "EPOCHS = 5\n",
        "BATCH_SIZE =100\n",
        "\n",
        "rnn_history = rnn_model.fit(x_train, \n",
        "                    y_train, \n",
        "                    epochs=EPOCHS,\n",
        "                    batch_size=BATCH_SIZE,\n",
        "                    validation_split=0.2)"
      ],
      "execution_count": null,
      "outputs": [
        {
          "output_type": "stream",
          "name": "stdout",
          "text": [
            "Epoch 1/5\n",
            "360/360 [==============================] - 196s 540ms/step - loss: 0.4465 - accuracy: 0.8167 - val_loss: 1.0789 - val_accuracy: 0.3598\n",
            "Epoch 2/5\n",
            "360/360 [==============================] - 192s 533ms/step - loss: 0.2065 - accuracy: 0.9263 - val_loss: 0.9125 - val_accuracy: 0.6108\n",
            "Epoch 3/5\n",
            "360/360 [==============================] - 196s 545ms/step - loss: 0.1060 - accuracy: 0.9628 - val_loss: 0.3082 - val_accuracy: 0.9012\n",
            "Epoch 4/5\n",
            "360/360 [==============================] - 198s 550ms/step - loss: 0.0712 - accuracy: 0.9758 - val_loss: 0.2862 - val_accuracy: 0.9148\n",
            "Epoch 5/5\n",
            "360/360 [==============================] - 199s 552ms/step - loss: 0.0587 - accuracy: 0.9816 - val_loss: 0.2345 - val_accuracy: 0.9346\n"
          ]
        }
      ]
    }
  ]
}